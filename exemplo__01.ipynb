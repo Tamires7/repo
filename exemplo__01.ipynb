{
  "nbformat": 4,
  "nbformat_minor": 0,
  "metadata": {
    "colab": {
      "name": "exemplo_ 01.ipynb",
      "provenance": [],
      "collapsed_sections": [],
      "authorship_tag": "ABX9TyOrfsyxAZDQaD3ZfvQUZ2dE",
      "include_colab_link": true
    },
    "kernelspec": {
      "name": "python3",
      "display_name": "Python 3"
    }
  },
  "cells": [
    {
      "cell_type": "markdown",
      "metadata": {
        "id": "view-in-github",
        "colab_type": "text"
      },
      "source": [
        "<a href=\"https://colab.research.google.com/github/Tamires7/repo/blob/master/exemplo__01.ipynb\" target=\"_parent\"><img src=\"https://colab.research.google.com/assets/colab-badge.svg\" alt=\"Open In Colab\"/></a>"
      ]
    },
    {
      "cell_type": "code",
      "metadata": {
        "id": "iVnCeA0vwuBO",
        "colab_type": "code",
        "colab": {
          "base_uri": "https://localhost:8080/",
          "height": 68
        },
        "outputId": "2cdffa81-78c0-412d-d6fe-1f8cdd6783c8"
      },
      "source": [
        "### isto é um comando de saída\n",
        "print('Olá mundo cruel!!!')\n",
        "print('Cruel world!!!')\n",
        "print(\"'bla bla '\")\n",
        "\n",
        "# a hastag é um comentário no código, ou seja, o programa não irá processar nenhuma linha que estiver marcada\n",
        "# o comando print () mostra na tela, ou seja, é uma saída de valor(es).\n",
        "# o conteúdo texto deve estar entre aspas (simples ou dupla)\n"
      ],
      "execution_count": 3,
      "outputs": [
        {
          "output_type": "stream",
          "text": [
            "Olá mundo cruel!!!\n",
            "Cruel world!!!\n",
            "'bla bla '\n"
          ],
          "name": "stdout"
        }
      ]
    },
    {
      "cell_type": "markdown",
      "metadata": {
        "id": "9EBS6NtP4irS",
        "colab_type": "text"
      },
      "source": [
        "Esta uma célula de texto."
      ]
    },
    {
      "cell_type": "markdown",
      "metadata": {
        "id": "AVW9tzYG5Dga",
        "colab_type": "text"
      },
      "source": [
        "Abaixo, vamos ver como mesclar uam saída de tela\n"
      ]
    },
    {
      "cell_type": "code",
      "metadata": {
        "id": "udO3tGyW5Olm",
        "colab_type": "code",
        "colab": {
          "base_uri": "https://localhost:8080/",
          "height": 34
        },
        "outputId": "e705aaae-1c06-41f2-dbc2-bfabd16c5c60"
      },
      "source": [
        "print('Tamires', 'de', 'Morais', 'Galdino')\n",
        "\n",
        "x = [i in ]"
      ],
      "execution_count": 4,
      "outputs": [
        {
          "output_type": "stream",
          "text": [
            "Tamires de Morais Galdino\n"
          ],
          "name": "stdout"
        }
      ]
    }
  ]
}