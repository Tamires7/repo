{
  "nbformat": 4,
  "nbformat_minor": 0,
  "metadata": {
    "colab": {
      "name": "Untitled1.ipynb",
      "provenance": [],
      "collapsed_sections": [],
      "authorship_tag": "ABX9TyNcOZNCE1b0q7Xnjs3aoYvV",
      "include_colab_link": true
    },
    "kernelspec": {
      "name": "python3",
      "display_name": "Python 3"
    }
  },
  "cells": [
    {
      "cell_type": "markdown",
      "metadata": {
        "id": "view-in-github",
        "colab_type": "text"
      },
      "source": [
        "<a href=\"https://colab.research.google.com/github/Tamires7/repo/blob/master/Aula4%2028/08.ipynb\" target=\"_parent\"><img src=\"https://colab.research.google.com/assets/colab-badge.svg\" alt=\"Open In Colab\"/></a>"
      ]
    },
    {
      "cell_type": "code",
      "metadata": {
        "id": "MvR26gUXh8Ox",
        "colab_type": "code",
        "colab": {}
      },
      "source": [
        "# Aula 04 - Estruturas de Decisão e Repetição"
      ],
      "execution_count": null,
      "outputs": []
    },
    {
      "cell_type": "code",
      "metadata": {
        "id": "-3aB7gINiI2W",
        "colab_type": "code",
        "colab": {}
      },
      "source": [
        "# Desvio Condicional é uma (Decisão)"
      ],
      "execution_count": null,
      "outputs": []
    },
    {
      "cell_type": "code",
      "metadata": {
        "id": "7S3y3f-IiNoj",
        "colab_type": "code",
        "colab": {}
      },
      "source": [
        "# Exewmplos\n",
        "#1.    "
      ],
      "execution_count": 5,
      "outputs": []
    },
    {
      "cell_type": "code",
      "metadata": {
        "id": "XQvqnBZil44K",
        "colab_type": "code",
        "colab": {
          "base_uri": "https://localhost:8080/",
          "height": 34
        },
        "outputId": "ca92cdd9-6cc3-4cca-c837-6c124438bb2c"
      },
      "source": [
        "if (10 > 2):\n",
        "    print('Executa o código', 'verdade')"
      ],
      "execution_count": 7,
      "outputs": [
        {
          "output_type": "stream",
          "text": [
            "Executa o código verdade\n"
          ],
          "name": "stdout"
        }
      ]
    },
    {
      "cell_type": "code",
      "metadata": {
        "id": "NhPnz7T3mN1o",
        "colab_type": "code",
        "colab": {
          "base_uri": "https://localhost:8080/",
          "height": 34
        },
        "outputId": "b34a8e49-d286-4554-f0a8-57b8b0ecac30"
      },
      "source": [
        "print(10 > 2)"
      ],
      "execution_count": 9,
      "outputs": [
        {
          "output_type": "stream",
          "text": [
            "True\n"
          ],
          "name": "stdout"
        }
      ]
    },
    {
      "cell_type": "code",
      "metadata": {
        "id": "AwtOgIf8mX7z",
        "colab_type": "code",
        "colab": {
          "base_uri": "https://localhost:8080/",
          "height": 34
        },
        "outputId": "21529beb-511e-4c2b-cc9e-1979ceb55399"
      },
      "source": [
        "print(10 < 2)"
      ],
      "execution_count": 10,
      "outputs": [
        {
          "output_type": "stream",
          "text": [
            "False\n"
          ],
          "name": "stdout"
        }
      ]
    },
    {
      "cell_type": "code",
      "metadata": {
        "id": "URkhkRtNma5K",
        "colab_type": "code",
        "colab": {
          "base_uri": "https://localhost:8080/",
          "height": 34
        },
        "outputId": "3327c381-4005-457c-b62c-abd4e7a4bb11"
      },
      "source": [
        "print(10 == 10)"
      ],
      "execution_count": 11,
      "outputs": [
        {
          "output_type": "stream",
          "text": [
            "True\n"
          ],
          "name": "stdout"
        }
      ]
    },
    {
      "cell_type": "code",
      "metadata": {
        "id": "mZ6d1G2Dmd1H",
        "colab_type": "code",
        "colab": {}
      },
      "source": [
        "#Ex. 2"
      ],
      "execution_count": 12,
      "outputs": []
    },
    {
      "cell_type": "code",
      "metadata": {
        "id": "HCxLvxrOmhDr",
        "colab_type": "code",
        "colab": {}
      },
      "source": [
        "if (10 < 2):\n",
        "  print('Verdadeiro')"
      ],
      "execution_count": 15,
      "outputs": []
    },
    {
      "cell_type": "code",
      "metadata": {
        "id": "c7rpyjmXm2b5",
        "colab_type": "code",
        "colab": {
          "base_uri": "https://localhost:8080/",
          "height": 34
        },
        "outputId": "f9916a83-8768-4415-f0ac-12e5e5b706e6"
      },
      "source": [
        "if (10 > 2):\n",
        "    print('Esse bloco de código mostra ou processa algo quando for TRUE')\n",
        "else:\n",
        "    print('Quando for FALSE')   "
      ],
      "execution_count": 17,
      "outputs": [
        {
          "output_type": "stream",
          "text": [
            "Quando for FALSE\n"
          ],
          "name": "stdout"
        }
      ]
    },
    {
      "cell_type": "code",
      "metadata": {
        "id": "wdbPGcnHoQmW",
        "colab_type": "code",
        "colab": {
          "base_uri": "https://localhost:8080/",
          "height": 34
        },
        "outputId": "1939d58b-9d37-4d5e-8eb6-d84a857e00e2"
      },
      "source": [
        "#Decisão encadeada\n",
        "if (10 == 11):\n",
        "    print('10 é igual a 11')\n",
        "else:\n",
        "    if ( 10 > 11):\n",
        "        print('10 é maior que 11')\n",
        "    else:    \n",
        "        print('10 é menor que 11')     "
      ],
      "execution_count": 22,
      "outputs": [
        {
          "output_type": "stream",
          "text": [
            "10 é menor que 11\n"
          ],
          "name": "stdout"
        }
      ]
    },
    {
      "cell_type": "code",
      "metadata": {
        "id": "Mw1TOIaWpzvo",
        "colab_type": "code",
        "colab": {
          "base_uri": "https://localhost:8080/",
          "height": 34
        },
        "outputId": "76a0c33c-4cea-4b7e-8acd-06e51dc8d7ce"
      },
      "source": [
        "# Outro exemplo com variáveis\n",
        "x = 10\n",
        "y = 11\n",
        "z = 5\n",
        "\n",
        "if(x <= y or z < y):\n",
        "    print('Verdadeiro')\n",
        "else:\n",
        "    print('False')"
      ],
      "execution_count": 25,
      "outputs": [
        {
          "output_type": "stream",
          "text": [
            "Verdadeiro\n"
          ],
          "name": "stdout"
        }
      ]
    },
    {
      "cell_type": "code",
      "metadata": {
        "id": "-YPxB1r0qaIe",
        "colab_type": "code",
        "colab": {
          "base_uri": "https://localhost:8080/",
          "height": 34
        },
        "outputId": "eeebbbaf-996e-427b-cca4-34077ed4d740"
      },
      "source": [
        "# Se então-se\n",
        "idade = 18 \n",
        "if idade < 12:\n",
        "    print('Criança')\n",
        "elif idade < 18:\n",
        "    print('Adolecente') \n",
        "elif idade < 60:\n",
        "    print('Adulto') \n",
        "else:\n",
        "    print('Idoso')    "
      ],
      "execution_count": 27,
      "outputs": [
        {
          "output_type": "stream",
          "text": [
            "Adulto\n"
          ],
          "name": "stdout"
        }
      ]
    },
    {
      "cell_type": "code",
      "metadata": {
        "id": "OpAW57LFrB4Q",
        "colab_type": "code",
        "colab": {}
      },
      "source": [
        "# Estruturas de Repetição ou Laços\n",
        "\n",
        "#Dentro da lógica de programção é uma estrutura que \n",
        "#permite executar mais de uma vez o mesmo comando ou\n",
        "#conjunto de comandos, de acordo com uma condição ou com um contador.\n",
        "#São utilizadas, por exemplo, para repetir ações semelhantes que\n",
        "#são executados para todos os elementos de uma lista de dados, ou\n",
        "#simplesmente para repetir um mesmo processamento até que a condiçãp seja satisfeita."
      ],
      "execution_count": 28,
      "outputs": []
    },
    {
      "cell_type": "code",
      "metadata": {
        "id": "kid8pVeas_jx",
        "colab_type": "code",
        "colab": {
          "base_uri": "https://localhost:8080/",
          "height": 187
        },
        "outputId": "b0df3416-4119-4ac5-aeeb-f7e104e66dec"
      },
      "source": [
        "# Ex. Imprimir os 10 primeiros números inteiros positivos\n",
        "#for cariavel in conjunto_de_valores:\n",
        "#  instruções\n",
        "\n",
        "for n in range(1, 11):\n",
        "    print(n)"
      ],
      "execution_count": 30,
      "outputs": [
        {
          "output_type": "stream",
          "text": [
            "1\n",
            "2\n",
            "3\n",
            "4\n",
            "5\n",
            "6\n",
            "7\n",
            "8\n",
            "9\n",
            "10\n"
          ],
          "name": "stdout"
        }
      ]
    },
    {
      "cell_type": "code",
      "metadata": {
        "id": "kpDgHiQHuZTX",
        "colab_type": "code",
        "colab": {
          "base_uri": "https://localhost:8080/",
          "height": 187
        },
        "outputId": "063f1b76-67f5-4f32-d7e8-1ce4bbbf24fd"
      },
      "source": [
        "# Laço de repetição ENQUANTO ou while\n",
        "var = 1 \n",
        "while var < 11: # enauqnto for verdadeira a condição\n",
        "    print(var)\n",
        "    var += 1 # isso é igual a var = var + 1"
      ],
      "execution_count": 32,
      "outputs": [
        {
          "output_type": "stream",
          "text": [
            "1\n",
            "2\n",
            "3\n",
            "4\n",
            "5\n",
            "6\n",
            "7\n",
            "8\n",
            "9\n",
            "10\n"
          ],
          "name": "stdout"
        }
      ]
    }
  ]
}