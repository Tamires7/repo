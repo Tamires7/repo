{
  "nbformat": 4,
  "nbformat_minor": 0,
  "metadata": {
    "colab": {
      "name": "Machine Learning.ipynb",
      "provenance": [],
      "authorship_tag": "ABX9TyN3DYE4PTlvMY8DFoCPQRAz",
      "include_colab_link": true
    },
    "kernelspec": {
      "name": "python3",
      "display_name": "Python 3"
    }
  },
  "cells": [
    {
      "cell_type": "markdown",
      "metadata": {
        "id": "view-in-github",
        "colab_type": "text"
      },
      "source": [
        "<a href=\"https://colab.research.google.com/github/Tamires7/repo/blob/master/Machine_Learning.ipynb\" target=\"_parent\"><img src=\"https://colab.research.google.com/assets/colab-badge.svg\" alt=\"Open In Colab\"/></a>"
      ]
    },
    {
      "cell_type": "markdown",
      "metadata": {
        "id": "I_RGMKYZRuhV"
      },
      "source": [
        "# Machine Learning\n",
        "\n",
        "Definindo, classificando, aprendendo,predizendo e analisando resultados\n",
        "\n",
        "# Você sabe identificar o que é um gato ou um cachorro?\n",
        "\n",
        "\n"
      ]
    },
    {
      "cell_type": "markdown",
      "metadata": {
        "id": "d6E6dh4fRzu7"
      },
      "source": [
        "## Definindo o problema\n",
        "\n",
        "+ o que queremos classificar?\n",
        "+ quais características diferenciam o conjunto?\n",
        "+ falsoso positivos e falsos negativos\n",
        "+ eliminação de objetos (se não é um gato, é um cachorro)\n",
        "\n",
        "Vamos tomar o gato como referência.\n",
        "\n",
        "A **priori** vamos selecionar três gatos para descrever nosso conjunto de dados e tabular três características\n",
        "\n",
        "<table>\n",
        "    <tr>\n",
        "        <td colspan=\"4\"  align=\"center\">GATOS</td>\n",
        "    </tr>\n",
        "    <tr>\n",
        "        <td>Animal</td>\n",
        "        <td>É fofinho?</td>\n",
        "        <td>Tem orelha pequena?</td>\n",
        "        <td>Faz miau?</td>\n",
        "    </tr>\n",
        "    <tr>\n",
        "        <td>Gato 1</td>\n",
        "        <td align=\"center\">1</td>\n",
        "        <td align=\"center\">1</td>\n",
        "        <td align=\"center\">1</td>\n",
        "    </tr>\n",
        "    <tr>\n",
        "        <td>Gato 2</td>\n",
        "        <td align=\"center\">1</td>\n",
        "        <td align=\"center\">0</td>\n",
        "        <td align=\"center\">1</td>\n",
        "    </tr>\n",
        "    <tr>\n",
        "        <td>Gato 3</td>\n",
        "        <td align=\"center\">0</td>\n",
        "        <td align=\"center\">1</td>\n",
        "        <td align=\"center\">1</td>\n",
        "    </tr>\n",
        "</table>\n",
        "\n",
        "<p>Vamos definir agora nosso cachorros.</p>\n",
        "<table>\n",
        "    <tr>\n",
        "        <td colspan=\"4\"  align=\"center\">CACHORROS</td>\n",
        "    </tr>\n",
        "    <tr>\n",
        "        <td>Animal</td>\n",
        "        <td>É fofinho?</td>\n",
        "        <td>Tem orelha pequena?</td>\n",
        "        <td>Faz miau?</td>\n",
        "    </tr>\n",
        "    <tr>\n",
        "        <td>Cachorro 1</td>\n",
        "        <td align=\"center\">1</td>\n",
        "        <td align=\"center\">1</td>\n",
        "        <td align=\"center\">0</td>\n",
        "    </tr>\n",
        "    <tr>\n",
        "        <td>Cachorro 2</td>\n",
        "        <td align=\"center\">0</td>\n",
        "        <td align=\"center\">1</td>\n",
        "        <td align=\"center\">0</td>\n",
        "    </tr>\n",
        "    <tr>\n",
        "        <td>Cachorro 3</td>\n",
        "        <td align=\"center\">0</td>\n",
        "        <td align=\"center\">1</td>\n",
        "        <td align=\"center\">0</td>\n",
        "    </tr>\n",
        "</table>"
      ]
    },
    {
      "cell_type": "markdown",
      "metadata": {
        "id": "jYFK-2W0R6X0"
      },
      "source": [
        "# Montar nosso problema\n",
        "\n",
        "\n",
        "\n"
      ]
    },
    {
      "cell_type": "code",
      "metadata": {
        "id": "WMO02jd5Rmfa"
      },
      "source": [
        "#gatos\n",
        "animal1= [1, 1, 1]\n",
        "animal2= [1, 0, 1]\n",
        "animal3= [0, 1, 1]\n",
        "\n",
        "#cachorro\n",
        "animal4= [1, 1, 0]\n",
        "animal5= [0, 1, 0]\n",
        "animal6= [0, 1, 0]"
      ],
      "execution_count": null,
      "outputs": []
    },
    {
      "cell_type": "markdown",
      "metadata": {
        "id": "PwekVai3Rtft"
      },
      "source": [
        "# Definindo o conjunto de dados"
      ]
    },
    {
      "cell_type": "code",
      "metadata": {
        "id": "B8CuqQbtSF1y"
      },
      "source": [
        "# cria o dataset com todos os animais\n",
        "conjunto_animais = [animal1, animal2, animal3, animal4, animal5, animal6]"
      ],
      "execution_count": null,
      "outputs": []
    },
    {
      "cell_type": "markdown",
      "metadata": {
        "id": "gYPbD7NBSMb4"
      },
      "source": [
        "# Informando para o algoritmo quem é gato e quem é cachorro\n",
        "\n",
        "\n",
        "\n",
        "*   1 para gato\n",
        "*  -1 para cachorro\n",
        "\n"
      ]
    },
    {
      "cell_type": "code",
      "metadata": {
        "id": "x2-n4YBCSNbB"
      },
      "source": [
        "convencao_animais = [1, 1, 1, -1, -1, -1] "
      ],
      "execution_count": null,
      "outputs": []
    },
    {
      "cell_type": "markdown",
      "metadata": {
        "id": "fL77SOgvSP6h"
      },
      "source": [
        "# Abrdagens de ML\n",
        "\n",
        "* Svm - Support Vector Machine\n",
        "* Árvores de Decisão\n",
        "* K-Nearest Neighbors\n",
        "* Nalve Bayes"
      ]
    },
    {
      "cell_type": "code",
      "metadata": {
        "id": "pQu0rlhfSVZK"
      },
      "source": [
        "# Importar uma biblioteca para trabalho com os modelos de ML\n",
        "# Sklearn - https://scikit-learn.org/stable/index.html\n",
        "from sklearn.naive_bayes import MultinomialNB # biblioteca de machine learning \n",
        "import numpy as up # biblioteca numérica\n",
        "import warnings # tratamento de erros\n",
        "warnings.filterwarnings('ignore') # configuração dos erros  "
      ],
      "execution_count": null,
      "outputs": []
    },
    {
      "cell_type": "code",
      "metadata": {
        "id": "7Ip_K6LZSY0X"
      },
      "source": [
        "# construindo nosso modelo\n",
        "modelo = MultinomialNB ()\n",
        "\n",
        "# conceitos básicos de ML \n",
        "# 1 - treinamento (aprendizado)\n",
        "# 2 - Predição (é prever um dado baseado em outro )\n",
        "modelo.fit(conjunto_animais, convencao_animais)"
      ],
      "execution_count": null,
      "outputs": []
    },
    {
      "cell_type": "code",
      "metadata": {
        "id": "PEZigjsmSexC"
      },
      "source": [
        "# verificando os índices de aprendizado \n",
        "modelo.coef_"
      ],
      "execution_count": null,
      "outputs": []
    }
  ]
}