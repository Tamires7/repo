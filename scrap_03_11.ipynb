{
  "nbformat": 4,
  "nbformat_minor": 0,
  "metadata": {
    "colab": {
      "name": "scrap_03/11.ipynb",
      "provenance": [],
      "collapsed_sections": [],
      "authorship_tag": "ABX9TyMJD0kYV3KBdxYg4qPMReo7",
      "include_colab_link": true
    },
    "kernelspec": {
      "name": "python3",
      "display_name": "Python 3"
    }
  },
  "cells": [
    {
      "cell_type": "markdown",
      "metadata": {
        "id": "view-in-github",
        "colab_type": "text"
      },
      "source": [
        "<a href=\"https://colab.research.google.com/github/Tamires7/repo/blob/master/scrap_03_11.ipynb\" target=\"_parent\"><img src=\"https://colab.research.google.com/assets/colab-badge.svg\" alt=\"Open In Colab\"/></a>"
      ]
    },
    {
      "cell_type": "markdown",
      "metadata": {
        "id": "GEeIMUnbKNu1"
      },
      "source": [
        "Extrair dados da web e usar em nossos projetos de Datascience e Machine Learning \n",
        "\n"
      ]
    },
    {
      "cell_type": "code",
      "metadata": {
        "id": "_4EO35LrDNBF"
      },
      "source": [
        "import requests # realiza requisições web\n",
        "from bs4 import BeautifulSoup # tratar dados html\n",
        "import re # expressões regulares"
      ],
      "execution_count": 17,
      "outputs": []
    },
    {
      "cell_type": "code",
      "metadata": {
        "id": "uFgFpjoGMauP",
        "outputId": "73337228-8ce3-44ea-e9b7-10372c70a39f",
        "colab": {
          "base_uri": "https://localhost:8080/",
          "height": 145
        }
      },
      "source": [
        "# recuperando os dados de um site via requests\n",
        "url = 'https://edsonmelo.com.br/'\n",
        "site = requests.get(url)\n",
        "\n",
        "# mostra o texto (conteúdo) completo da página acesada\n",
        "site.text"
      ],
      "execution_count": 23,
      "outputs": [
        {
          "output_type": "execute_result",
          "data": {
            "application/vnd.google.colaboratory.intrinsic+json": {
              "type": "string"
            },
            "text/plain": [
              "'<!DOCTYPE html>\\n<html lang=\"en\">\\n\\n<head>\\n\\t<meta charset=\"utf-8\">\\n\\t<title>Edson Melo de Souza</title>\\n\\t<meta name=\"viewport\" content=\"width=device-width, initial-scale=1.0\">\\n\\t<meta name=\"keywords\"\\n\\t\\tcontent=\"professor, ciÃªncias da computaÃ§Ã£o, consultor, palestrante, pesquisador, machine learning\">\\n\\t<meta name=\"description\"\\n\\t\\tcontent=\"Professor, IT Engineer, Mestre e Doutorando em InformÃ¡tica e GestÃ£o do Conhecimento com Ãªnfase em InteligÃªncia Artificial\">\\n\\n\\t<!-- Favicons -->\\n\\t<link href=\"img/favicon.png\" rel=\"icon\">\\n\\t<!--<link href=\"img/apple-touch-icon.png\" rel=\"apple-touch-icon\">-->\\n\\n\\t<!-- Google Fonts -->\\n\\t<link\\n\\t\\thref=\"https://fonts.googleapis.com/css?family=Open+Sans:300,300i,400,400i,500,600,700,700i|Montserrat:300,400,500,600,700\"\\n\\t\\trel=\"stylesheet\">\\n\\n\\t<!-- Bootstrap CSS File -->\\n\\t<link href=\"lib/bootstrap/css/bootstrap.min.css\" rel=\"stylesheet\">\\n\\t<link href=\"lib/animate/animate.min.css\" rel=\"stylesheet\">\\n\\t<link href=\"lib/lightbox/css/lightbox.min.css\" rel=\"stylesheet\">\\n\\t<link href=\"css/style.css\" rel=\"stylesheet\" async>\\n\\n\\n\\t<!-- Libraries CSS Files -->\\n\\t<!--<link href=\"lib/font-awesome/css/font-awesome.min.css\" rel=\"stylesheet\">-->\\n\\t<link href=\"lib/ionicons/css/ionicons.min.css\" rel=\"stylesheet\">\\n\\t<!-- <link href=\"lib/owlcarousel/assets/owl.carousel.min.css\" rel=\"stylesheet\"> -->\\n\\n\\t<!-- Main Stylesheet File -->\\n\\n\\t<!-- =======================================================\\n    Theme Name: Rapid\\n    Theme URL: https://bootstrapmade.com/rapid-multipurpose-bootstrap-business-template/\\n    Author: BootstrapMade.com\\n    License: https://bootstrapmade.com/license/\\n    ======================================================= -->\\n</head>\\n\\n<body>\\n\\t<!--==========================\\n  Header\\n  ============================-->\\n\\t<header id=\"header\">\\n\\n\\t\\t<div id=\"topbar\">\\n\\t\\t\\t<div class=\"container\">\\n\\t\\t\\t\\t<div class=\"social-links\">\\n\\t\\t\\t\\t\\t<a href=\"https://youtube.com/EdsonMsouza\" class=\"youtube\"><i class=\"fa fa-youtube\"></i></a>\\n\\t\\t\\t\\t\\t<a href=\"https://github.com/EdsonMSouza?tab=repositories\" class=\"github\"><i\\n\\t\\t\\t\\t\\t\\t\\tclass=\"fa fa-github\"></i></a>\\n\\t\\t\\t\\t\\t<a href=\"https://www.facebook.com/emelo1970\" class=\"facebook\"><i class=\"fa fa-facebook\"></i></a>\\n\\t\\t\\t\\t\\t<a href=\"https://www.linkedin.com/in/souzaem/\" class=\"linkedin\"><i class=\"fa fa-linkedin\"></i></a>\\n\\t\\t\\t\\t</div>\\n\\t\\t\\t</div>\\n\\t\\t</div>\\n\\n\\t\\t<div class=\"container\">\\n\\n\\t\\t\\t<div class=\"logo float-left\">\\n\\t\\t\\t\\t<!-- Uncomment below if you prefer to use an image logo -->\\n\\t\\t\\t\\t<h1 class=\"text-light\"><a href=\"#intro\" class=\"scrollto\"><span>EMS</span></a></h1>\\n\\t\\t\\t\\t<!-- <a href=\"#header\" class=\"scrollto\"><img src=\"img/logo.png\" alt=\"\" class=\"img-fluid\"></a> -->\\n\\t\\t\\t</div>\\n\\n\\t\\t\\t<nav class=\"main-nav float-right d-none d-lg-block\">\\n\\t\\t\\t\\t<ul>\\n\\t\\t\\t\\t\\t<li class=\"active\"><a href=\"#main\" title=\"InÃ\\xadcio da pÃ¡gina\">Home</a></li>\\n\\t\\t\\t\\t\\t<li><a href=\"#services\" title=\"Perfil Profissional\">Perfil</a></li>\\n\\t\\t\\t\\t\\t<li><a href=\"#faq\" title=\"Perfil AcadÃªmico\">AcadÃªmico</a></li>\\n\\t\\t\\t\\t\\t<li><a href=\"#footer\" title=\"Fale Comigo\">Contato</a></li>\\n\\t\\t\\t\\t</ul>\\n\\t\\t\\t</nav><!-- .main-nav -->\\n\\n\\t\\t</div>\\n\\t</header><!-- #header -->\\n\\n\\t<!--==========================\\n    Intro Section\\n    ============================-->\\n\\t<section class=\"clearfix\">\\n\\t\\t<br><br><br>\\n\\t</section><!-- #intro -->\\n\\n\\t<main id=\"main\">\\n\\n\\t\\t<!--==========================\\n      About Us Section\\n      ============================-->\\n\\t\\t<section id=\"about\">\\n\\t\\t\\t<div class=\"container\">\\n\\t\\t\\t\\t<div class=\"row\">\\n\\n\\t\\t\\t\\t\\t<div class=\"col-lg-5 col-md-6\">\\n\\t\\t\\t\\t\\t\\t<div class=\"about-img\">\\n\\t\\t\\t\\t\\t\\t\\t<img src=\"img/about.jpg\" alt=\"Edson Melo de Souza\">\\n\\t\\t\\t\\t\\t\\t</div>\\n\\t\\t\\t\\t\\t</div>\\n\\n\\t\\t\\t\\t\\t<div class=\"col-lg-7 col-md-6\">\\n\\t\\t\\t\\t\\t\\t<div class=\"about-content text-justify\">\\n\\t\\t\\t\\t\\t\\t\\t<h2>Edson Melo de Souza</h2>\\n\\t\\t\\t\\t\\t\\t\\t<p>\\n\\t\\t\\t\\t\\t\\t\\t\\tProfessor universitÃ¡rio na <a href=\"https://uninove.br/\"\\n\\t\\t\\t\\t\\t\\t\\t\\t\\ttitle=\"Universidade Nove de Julho\" alt=\"Universidade Nove de Julho\">Universidade\\n\\t\\t\\t\\t\\t\\t\\t\\t\\tNove de Julho -\\n\\t\\t\\t\\t\\t\\t\\t\\t\\tUninove</a> desde 2013 com sÃ³lida formaÃ§Ã£o em CiÃªncias da ComputaÃ§Ã£o, Mestrado em\\n\\t\\t\\t\\t\\t\\t\\t\\tEngenharia de ProduÃ§Ã£o e MBA em GestÃ£o EstratÃ©gica Empresarial. Atualmente doutorando em\\n\\t\\t\\t\\t\\t\\t\\t\\tInformÃ¡tica e GestÃ£o do Conhecimento na Universidade Nove de Julho (PPGI),\\n\\t\\t\\t\\t\\t\\t\\t\\tcom Ãªnfase em Aprendizagem de MÃ¡quina (<em>Machine Learning</em>).\\n\\t\\t\\t\\t\\t\\t\\t</p>\\n\\t\\t\\t\\t\\t\\t\\t<p>\\n\\t\\t\\t\\t\\t\\t\\t\\tAmpla experiÃªncia na Ã¡rea da CiÃªncia da ComputaÃ§Ã£o e Sistemas de InformaÃ§Ã£o com\\n\\t\\t\\t\\t\\t\\t\\t\\tÃªnfase em desenvolvimento de Algoritmos, Estrutura de Dados, Modelagem e SimulaÃ§Ã£o,\\n\\t\\t\\t\\t\\t\\t\\t\\tInteligÃªncia Artificial, VisÃ£o Computacional, Processamento de Sinais, Banco de Dados,\\n\\t\\t\\t\\t\\t\\t\\t\\talÃ©m de desenvolvimento de sistemas computacionais com foco na Web, dispositivos mÃ³veis\\n\\t\\t\\t\\t\\t\\t\\t\\t(Android e HÃ\\xadbridos), IoT (Internet das Coisas) e IndÃºstria 4.0.\\n\\t\\t\\t\\t\\t\\t\\t</p>\\n\\t\\t\\t\\t\\t\\t\\t<p>\\n\\t\\t\\t\\t\\t\\t\\t\\tNos Ãºltimos 30 anos venho atuando tambÃ©m como Palestrante e Consultor em grandes\\n\\t\\t\\t\\t\\t\\t\\t\\tempresas como SENAC, VIVO, Telesp Celular e Nesic Telecom. Co-autor do livro \"Midias\\n\\t\\t\\t\\t\\t\\t\\t\\tSociais para Pequenas e MÃ©dias Empresas\", (2010).\\n\\t\\t\\t\\t\\t\\t\\t</p>\\n\\t\\t\\t\\t\\t\\t</div>\\n\\t\\t\\t\\t\\t</div>\\n\\t\\t\\t\\t</div>\\n\\t\\t\\t</div>\\n\\n\\t\\t</section><!-- #about -->\\n\\n\\n\\t\\t<!--==========================\\n      Services Section\\n      ============================-->\\n\\t\\t<section id=\"services\" class=\"section-bg\">\\n\\t\\t\\t<div class=\"container\">\\n\\n\\t\\t\\t\\t<header class=\"section-header\">\\n\\t\\t\\t\\t\\t<h3>Perfil Profissional</h3>\\n\\t\\t\\t\\t</header>\\n\\n\\t\\t\\t\\t<div class=\"row\">\\n\\t\\t\\t\\t\\t<div class=\"col-md-6 col-lg-4 wow bounceInUp\" data-wow-duration=\"1.4s\">\\n\\t\\t\\t\\t\\t\\t<div class=\"box\">\\n\\t\\t\\t\\t\\t\\t\\t<div class=\"icon\"><img src=\"img/company.png\" alt=\"imagem perfil corporativo\"></div>\\n\\t\\t\\t\\t\\t\\t\\t<h4 class=\"title\">Corporativo</h4>\\n\\t\\t\\t\\t\\t\\t\\t<p class=\"description text-justify\">\\n\\t\\t\\t\\t\\t\\t\\t\\tIniciei minha carreira corporativa em 1986 em um banco, passando por cooperativas\\n\\t\\t\\t\\t\\t\\t\\t\\thabitacionais, empresas de eventos e de consultoria em TI. Durante 10 anos fui gestor de\\n\\t\\t\\t\\t\\t\\t\\t\\tTI responsÃ¡vel pela Ã¡rea de desenvolvimento e implantaÃ§Ã£o de soluÃ§Ãµes. A partir do ano\\n\\t\\t\\t\\t\\t\\t\\t\\t2000 iniciei na Ã¡rea de palestras, ministrando sobre diversos temas relacionados a\\n\\t\\t\\t\\t\\t\\t\\t\\ttecnologia da informaÃ§Ã£o.\\n\\t\\t\\t\\t\\t\\t\\t</p>\\n\\t\\t\\t\\t\\t\\t</div>\\n\\t\\t\\t\\t\\t</div>\\n\\t\\t\\t\\t\\t<div class=\"col-md-6 col-lg-4 wow bounceInUp\" data-wow-duration=\"1.4s\">\\n\\t\\t\\t\\t\\t\\t<div class=\"box\">\\n\\t\\t\\t\\t\\t\\t\\t<div class=\"icon\"><img src=\"img/education.png\" alt=\"imagem perfil em educaÃ§Ã£o\">\\n\\t\\t\\t\\t\\t\\t\\t</div>\\n\\t\\t\\t\\t\\t\\t\\t<h4 class=\"title\">EducaÃ§Ã£o</h4>\\n\\t\\t\\t\\t\\t\\t\\t<p class=\"description text-justify\">\\n\\t\\t\\t\\t\\t\\t\\t\\tDesde 1990 venho atuando como professor em cursos de informÃ¡tica, iniciando minha\\n\\t\\t\\t\\t\\t\\t\\t\\tcarreira na SOS Computadores como instrutor de Clipper e DBase. Posteriormente me\\n\\t\\t\\t\\t\\t\\t\\t\\ttransferi para o SENAC, atuando como docente em cursos tÃ©cnicos e em projetos sociais.\\n\\t\\t\\t\\t\\t\\t\\t\\tEm 2013 ingressei como professor na educaÃ§Ã£o superior na Universidade Nove de Julho,\\n\\t\\t\\t\\t\\t\\t\\t\\tonde atuo atÃ© o momento.\\n\\t\\t\\t\\t\\t\\t\\t</p>\\n\\t\\t\\t\\t\\t\\t</div>\\n\\t\\t\\t\\t\\t</div>\\n\\t\\t\\t\\t\\t<div class=\"col-md-6 col-lg-4 wow bounceInUp\" data-wow-delay=\"0.1s\" data-wow-duration=\"1.4s\">\\n\\t\\t\\t\\t\\t\\t<div class=\"box\">\\n\\t\\t\\t\\t\\t\\t\\t<div class=\"icon\"><img src=\"img/microscope.png\" alt=\"imagem perfil em pesquisa\"></div>\\n\\t\\t\\t\\t\\t\\t\\t<h4 class=\"title\">Pesquisa</h4>\\n\\t\\t\\t\\t\\t\\t\\t<p class=\"description text-justify\">\\n\\t\\t\\t\\t\\t\\t\\t\\tAtualmente desenvolvo pesquisas na Ã¡rea de OtimizaÃ§Ã£o de Processos com aplicaÃ§Ã£o de\\n\\t\\t\\t\\t\\t\\t\\t\\tInteligÃªncia Artificial e soluÃ§Ãµes em IoT - Internet das Coisas. Buscando sempre o\\n\\t\\t\\t\\t\\t\\t\\t\\taprimoramento, realizei estudos na Ã\\x81ustria para melhorar minhas condiÃ§Ãµes\\n\\t\\t\\t\\t\\t\\t\\t\\ttÃ©cnicas. Em parceria com outros pesquisadores, tambÃ©m realizo pesquisas na Ã¡rea da\\n\\t\\t\\t\\t\\t\\t\\t\\tsaÃºde como otimizaÃ§Ã£o de sistemas de Raio-X.\\n\\t\\t\\t\\t\\t\\t\\t</p>\\n\\t\\t\\t\\t\\t\\t</div>\\n\\t\\t\\t\\t\\t</div>\\n\\t\\t\\t\\t</div>\\n\\n\\t\\t\\t</div>\\n\\t\\t</section><!-- #services -->\\n\\n\\t\\t<!--==========================\\n      Frequently Asked Questions Section\\n      ============================-->\\n\\t\\t<section id=\"faq\">\\n\\t\\t\\t<div class=\"container\">\\n\\t\\t\\t\\t<header class=\"section-header\">\\n\\t\\t\\t\\t\\t<h3>AcadÃªmico</h3>\\n\\t\\t\\t\\t</header>\\n\\n\\t\\t\\t\\t<ul id=\"faq-list\" class=\"wow fadeInUp\">\\n\\t\\t\\t\\t\\t<li>\\n\\t\\t\\t\\t\\t\\t<a data-toggle=\"collapse\" class=\"collapsed\" href=\"#faq1\">CurrÃ\\xadculo Lattes e DissertaÃ§Ã£o <i\\n\\t\\t\\t\\t\\t\\t\\t\\tclass=\"ion-android-remove\"></i></a>\\n\\t\\t\\t\\t\\t\\t<div id=\"faq1\" class=\"collapse\" data-parent=\"#faq-list\">\\n\\t\\t\\t\\t\\t\\t\\t<p>\\n\\t\\t\\t\\t\\t\\t\\t\\t<strong>CV. Lattes</strong><a href=\"http://lattes.cnpq.br/2641658716558510\"\\n\\t\\t\\t\\t\\t\\t\\t\\t\\ttarget=\"_blank\" style=\"font-size: 16px;\" title=\"CurrÃ\\xadculo Lattes\"\\n\\t\\t\\t\\t\\t\\t\\t\\t\\talt=\"CurrÃ\\xadculo Lattes\">http://lattes.cnpq.br/2641658716558510</a>\\n\\t\\t\\t\\t\\t\\t\\t</p>\\n\\t\\t\\t\\t\\t\\t\\t<p>\\n\\t\\t\\t\\t\\t\\t\\t\\t<strong>DissertaÃ§Ã£o</strong><a href=\"file/Dissertacao_Edson_Melo_de_Souza.pdf\"\\n\\t\\t\\t\\t\\t\\t\\t\\t\\ttarget=\"_blank\" style=\"font-size: 16px;\" title=\"DissertaÃ§Ã£o de Mestrado\"\\n\\t\\t\\t\\t\\t\\t\\t\\t\\talt=\"DissertaÃ§Ã£o de Mestrado\">Desenvolvimento de um Sistema de Apoio Ã\\xa0\\n\\t\\t\\t\\t\\t\\t\\t\\t\\tDecisÃ£o e Operacional para OtimizaÃ§Ã£o dos ParÃ¢metros de Corte em Usinagem</a>\\n\\t\\t\\t\\t\\t\\t\\t</p>\\n\\t\\t\\t\\t\\t\\t</div>\\n\\t\\t\\t\\t\\t</li>\\n\\n\\t\\t\\t\\t\\t<li>\\n\\t\\t\\t\\t\\t\\t<a data-toggle=\"collapse\" href=\"#faq2\" class=\"collapsed\">Principais PublicaÃ§Ãµes <i\\n\\t\\t\\t\\t\\t\\t\\t\\tclass=\"ion-android-remove\"></i></a>\\n\\t\\t\\t\\t\\t\\t<div id=\"faq2\" class=\"collapse\" data-parent=\"#faq-list\">\\n\\t\\t\\t\\t\\t\\t\\t<p><strong>DE SOUZA, E. M.</strong>; DABRUZZO, E. O. ; LIBRANTZ, A. F. H. . AVALIAÃ\\x87Ã\\x83O DE\\n\\t\\t\\t\\t\\t\\t\\t\\tTÃ\\x89CNICAS DE CÃ\\x81LCULO DE SIMILARIDADE ENTRE DOCUMENTOS BASEADAS EM BANCOS LEXICOGRÃ\\x81FICOS E\\n\\t\\t\\t\\t\\t\\t\\t\\tMODELO DE ESPAÃ\\x87O VETORIAL. In: SeminÃ¡rio em Tecnologia da InformaÃ§Ã£o Inteligente - SeTII\\n\\t\\t\\t\\t\\t\\t\\t\\t2018, 2018, SAO PAULO. Setii 2018. SAO PAULO: Exacta, 2018. v. 1.</p>\\n\\t\\t\\t\\t\\t\\t\\t<p><strong>DE SOUZA, E. M.</strong>; MESQUITA, P. R. B. ; SOARES, F. A ; TRINDADE, G. A ;\\n\\t\\t\\t\\t\\t\\t\\t\\tCAIQUE, L. ; NEVES, L. F. T. . ANÃ\\x81LISE DA EFICIÃ\\x8aNCIA NA COMUNICAÃ\\x87Ã\\x83O EM SISTEMAS DE\\n\\t\\t\\t\\t\\t\\t\\t\\tTELEMETRIA DE BAIXO CUSTO EM AMBIENTES AGRESSIVOS DE PISCICULTURA. In: XV Encontro de\\n\\t\\t\\t\\t\\t\\t\\t\\tIniciaÃ§Ã£o CientÃ\\xadfica da Uninove, 2018, SAO PAULO. XV Encontro de IniciaÃ§Ã£o CientÃ\\xadfica da\\n\\t\\t\\t\\t\\t\\t\\t\\tUninove. SAO PAULO: Universidade Nove de Julho, 2018. v. 1. p. 1-524.</p>\\n\\t\\t\\t\\t\\t\\t\\t<p><strong>DE SOUZA, E. M.</strong>; RIBEIRO, K. T. ; LEMOS, L. C ; DABRUZZO, E. O. .\\n\\t\\t\\t\\t\\t\\t\\t\\tPROMOÃ\\x87Ã\\x83O DA SAÃ\\x9aDE COMO ESTRATÃ\\x89GIA DE PREVENÃ\\x87Ã\\x83O DE DOENÃ\\x87AS CRÃ\\x94NICAS NÃ\\x83O TRANSMISSÃ\\x8dVEIS:\\n\\t\\t\\t\\t\\t\\t\\t\\tUMA RESPOSTA EM TEMPO REAL COM SUPORTE DE TÃ\\x89CNICAS DE MACHINE LEARNING. In: XV Encontro\\n\\t\\t\\t\\t\\t\\t\\t\\tde IniciaÃ§Ã£o CientÃ\\xadfica da Uninove, 2018, SAO PAULO. XV Encontro de IniciaÃ§Ã£o CientÃ\\xadfica\\n\\t\\t\\t\\t\\t\\t\\t\\tda Uninove. SAO PAULO: Universidade Nove de Julho, 2018. v. 1. p. 1-524.</p>\\n\\t\\t\\t\\t\\t\\t\\t<p>COSTA, B. H. S. ; SILVA, F. P. ; <strong>DE SOUZA, E. M.</strong> . DESENVOLVIMENTO DE UM\\n\\t\\t\\t\\t\\t\\t\\t\\tSOFTWARE UTILIZANDO A TECNOLOGIA QRCODE E RFID PARA O MONITORAMENTO E AUXÃ\\x8dLIO PEDAGÃ\\x93GICO\\n\\t\\t\\t\\t\\t\\t\\t\\tPARA OS ALUNOS DO CURSO DE MEDICINA DA UNIVERSIDADE NOVE DE JULHO. In: XIV Encontro de\\n\\t\\t\\t\\t\\t\\t\\t\\tIniciaÃ§Ã£o CientÃ\\xadfica da Uninove, 2017, SÃ£o Paulo. XIII Encontro de IniciaÃ§Ã£o CientÃ\\xadfica\\n\\t\\t\\t\\t\\t\\t\\t\\tda Uninove. SÃ£o Paulo: Universidade Nove de Julho, 2017. v. 1. p. 1-524.</p>\\n\\t\\t\\t\\t\\t\\t\\t<p>SHIMONI, R. H. ; FEITOSA ; RICIERI, R. N. ; <strong>DE SOUZA, E. M.</strong> . APLICATIVO\\n\\t\\t\\t\\t\\t\\t\\t\\tEQUALS - ACESSIBILIDADE PARA DEFICIENTES FÃ\\x8dSICOS. In: XIV Encontro de IniciaÃ§Ã£o\\n\\t\\t\\t\\t\\t\\t\\t\\tCientÃ\\xadfica da Uninove, 2017, SÃ£o Paulo. XIV Encontro de IniciaÃ§Ã£o CientÃ\\xadfica da Uninove.\\n\\t\\t\\t\\t\\t\\t\\t\\tSÃ£o Paulo: Universidade Nove de Julho, 2017. v. 1. p. 1-524.</p>\\n\\t\\t\\t\\t\\t\\t\\t<p>SANTOS, K. S. ; MORAIS, B. F. ; XAVIER, P. R. B. ; <strong>DE SOUZA, E. M.</strong> SSQ -\\n\\t\\t\\t\\t\\t\\t\\t\\tSEARCH STAFF QUALIFICATIONS. In: XIV Encontro de IniciaÃ§Ã£o CientÃ\\xadfica da Uninove, 2017,\\n\\t\\t\\t\\t\\t\\t\\t\\tSÃ£o Paulo. XIII Encontro de IniciaÃ§Ã£o CientÃ\\xadfica da Uninove. SÃ£o Paulo: Universidade\\n\\t\\t\\t\\t\\t\\t\\t\\tNove de Julho, 2017. v. 1. p. 1-524.</p>\\n\\t\\t\\t\\t\\t\\t\\t<p>COPPINI, N. L.; BAPTISTA, E. A.; <strong>DE SOUZA, EDSON MELO</strong>; OLIVEIRA, F. S.;\\n\\t\\t\\t\\t\\t\\t\\t\\tPINSON, M. J. PROPOSTA DE PROCEDIMENTO PARA EQUILIBRAR CUSTO POR PEÃ\\x87A, PRODUTIVIDADE E\\n\\t\\t\\t\\t\\t\\t\\t\\tCOMPETITIVIDADE EM USINAGEM. In: CONEM 2016 - CONGRESSO NACIONAL DE ENGENHARIA MECÃ\\x82NICA,\\n\\t\\t\\t\\t\\t\\t\\t\\t2016, Fortaleza. CONEM2016 - IX Congresso Nacional de Engenharia MecÃ¢nica. Rio de\\n\\t\\t\\t\\t\\t\\t\\t\\tJaneiro, RJ: ABCM, <strong>2016</strong>. v. 1. p. 1-10.</p>\\n\\t\\t\\t\\t\\t\\t\\t<p><strong>DE SOUZA, EDSON MELO</strong>; MESQUITA, P. R. B. Students Automation Frequency\\n\\t\\t\\t\\t\\t\\t\\t\\tControl in Academic Environment with RFID Technology and Arduino. In: SeTII 2016 -\\n\\t\\t\\t\\t\\t\\t\\t\\tSeminÃ¡rio em Tecnologia da InformaÃ§Ã£o Inteligente, 2016, SÃ£o Paulo. SÃ£o Paulo: Exacta,\\n\\t\\t\\t\\t\\t\\t\\t\\t<strong>2016</strong>. v. 1.</p>\\n\\t\\t\\t\\t\\t\\t\\t<p><strong>DE SOUZA, EDSON MELO</strong>. Development of a Prototype for Automotive\\n\\t\\t\\t\\t\\t\\t\\t\\tVibration Analysis Using Arduino platform Jointly with Artificial Neural Network\\n\\t\\t\\t\\t\\t\\t\\t\\tTechniques. In: SeTII 2016 - SeminÃ¡rio em Tecnologia da InformaÃ§Ã£o Inteligente, 2016,\\n\\t\\t\\t\\t\\t\\t\\t\\tSÃ£o Paulo. SeTII 2016 - SeminÃ¡rio em Tecnologia da InformaÃ§Ã£o Inteligente. SÃ£o Paulo:\\n\\t\\t\\t\\t\\t\\t\\t\\tExacta, <strong>2016</strong>. v. 1.</p>\\n\\t\\t\\t\\t\\t\\t\\t<p><strong>DE SOUZA, EDSON MELO</strong>. IoT for Car Traffic Control Using Arduino Platform\\n\\t\\t\\t\\t\\t\\t\\t\\tand Artificial Neural Networks Techniques. In: SeTII 2016 - SeminÃ¡rio em Tecnologia da\\n\\t\\t\\t\\t\\t\\t\\t\\tInformaÃ§Ã£o Inteligente, 2016, SÃ£o Paulo. SeTII 2016 - SeminÃ¡rio em Tecnologia da\\n\\t\\t\\t\\t\\t\\t\\t\\tInformaÃ§Ã£o Inteligente. SÃ£o Paulo: Exacta, <strong>2016</strong>. v. 1.</p>\\n\\t\\t\\t\\t\\t\\t\\t<p>MESQUITA, P. R. B. ; <strong>DE SOUZA, EDSON MELO</strong> . AplicaÃ§Ã£o de Sistemas\\n\\t\\t\\t\\t\\t\\t\\t\\tMultiagentes Inteligentes para ConstruÃ§Ã£o de um Sistema de Pesquisas e ColaboraÃ§Ã£o para\\n\\t\\t\\t\\t\\t\\t\\t\\tDiagnÃ³stico MÃ©dico (SPCDM). In: SeTII 2016 - SeminÃ¡rio em Tecnologia da InformaÃ§Ã£o\\n\\t\\t\\t\\t\\t\\t\\t\\tInteligente, 2016, SÃ£o Paulo. SeTII 2016 - SeminÃ¡rio em Tecnologia da InformaÃ§Ã£o\\n\\t\\t\\t\\t\\t\\t\\t\\tInteligente. SÃ£o Paulo: Exacta, <strong>2016</strong>. v. 1.</p>\\n\\t\\t\\t\\t\\t\\t\\t<p>SANTOS A. C. ; SILVA, B. L. ; SANTOS, L. S. ; <strong>DE SOUZA, EDSON MELO</strong>.\\n\\t\\t\\t\\t\\t\\t\\t\\tANÃ\\x81LISE DE VIBRAÃ\\x87Ã\\x95ES MECÃ\\x82NICAS POR MEIO DA UTILIZAÃ\\x87Ã\\x83O DA PLATAFORMA ARDUINO COM\\n\\t\\t\\t\\t\\t\\t\\t\\tAPLICAÃ\\x87Ã\\x83O DE REDES NEURAIS ARTIFICIAIS. In: XIII Encontro de IniciaÃ§Ã£o CientÃ\\xadfica, 2016,\\n\\t\\t\\t\\t\\t\\t\\t\\tSÃ£o Paulo. Encontro de IniciaÃ§Ã£o CientÃ\\xadfica (2016: SÃ£o Paulo, SP).. SÃ£o Paulo:\\n\\t\\t\\t\\t\\t\\t\\t\\tUniversidade Nove de Julho, <strong>2016</strong>. v. 1. p. 247-247.</p>\\n\\t\\t\\t\\t\\t\\t\\t<p>MESQUITA, P. R. B. ; <strong>DE SOUZA, EDSON MELO</strong> . AplicaÃ§Ã£o de Sistemas\\n\\t\\t\\t\\t\\t\\t\\t\\tMultiagentes Inteligentes para ConstruÃ§Ã£o de um Sistema de Pesquisas e ColaboraÃ§Ã£o para\\n\\t\\t\\t\\t\\t\\t\\t\\tDiagnÃ³stico MÃ©dico (SPCDM). <strong>2016</strong>. (ApresentaÃ§Ã£o de Trabalho/SeminÃ¡rio).\\n\\t\\t\\t\\t\\t\\t\\t</p>\\n\\t\\t\\t\\t\\t\\t\\t<p><strong>DE SOUZA, EDSON MELO</strong>. Development of a Prototype for Automotive\\n\\t\\t\\t\\t\\t\\t\\t\\tVibration Analysis Using Arduino platform Jointly with Artificial Neural Network\\n\\t\\t\\t\\t\\t\\t\\t\\tTechniques. <strong>2016</strong>. (ApresentaÃ§Ã£o de Trabalho/SeminÃ¡rio).</p>\\n\\t\\t\\t\\t\\t\\t\\t<p><strong>DE SOUZA, EDSON MELO</strong>. Students Automation Frequency Control in Academic\\n\\t\\t\\t\\t\\t\\t\\t\\tEnvironment with RFID Technology and Arduino. <strong>2016</strong>. (ApresentaÃ§Ã£o de\\n\\t\\t\\t\\t\\t\\t\\t\\tTrabalho/SeminÃ¡rio).</p>\\n\\t\\t\\t\\t\\t\\t\\t<p>COPPINI, N. L. ; ROSA, A. F. C. ; CARVALHO, A. A. M. ; <strong>DE SOUZA, E. M. </strong>\\n\\t\\t\\t\\t\\t\\t\\t\\t. Simulated Annealing Applied to Optimize the Efficiency of Flexible Manufacturing\\n\\t\\t\\t\\t\\t\\t\\t\\tCells. Applied Mechanics and Materials, v. 778, p. 245-258, <strong>2015</strong>.</p>\\n\\t\\t\\t\\t\\t\\t\\t<p>COPPINI, N. L. ; MARTINEZ, J. M. ; ARAUJO, A. C. ; MACHADO, A. M. L. ; <strong>DE SOUZA,\\n\\t\\t\\t\\t\\t\\t\\t\\t\\tE. M.</strong>. . DESENVOLVIMENTO DAS EQUAÃ\\x87Ã\\x95ES PARA CÃ\\x81LCULO DO TEMPO DE CORTE EM\\n\\t\\t\\t\\t\\t\\t\\t\\tTORNEAMENTO DE PEÃ\\x87AS COM GEOMETRIAS NÃ\\x83O CILÃ\\x8dNDRICAS. In: 8Âº Congresso Brasileiro de\\n\\t\\t\\t\\t\\t\\t\\t\\tEngenharia de FabricaÃ§Ã£o, 2015, Salvador. VIII Congresso Brasileiro de Engenharia de\\n\\t\\t\\t\\t\\t\\t\\t\\tFabricaÃ§Ã£o - COBEF, <strong>2015</strong>.</p>\\n\\t\\t\\t\\t\\t\\t\\t<p>COSTA, D. M. ; SILVA, L. P. S. ; CRUZ, M. H. A. ; <strong>DE SOUZA, EDSON MELO</strong>.\\n\\t\\t\\t\\t\\t\\t\\t\\tDesenvolvimento de uma Ferramenta Computacional de Aprendizagem para AmpliaÃ§Ã£o do\\n\\t\\t\\t\\t\\t\\t\\t\\tRaciocÃ\\xadnio LÃ³gico Infantil. In: XII ENCONTRO DE INICIAÃ\\x87Ã\\x83O CIENTÃ\\x8dFICA - UNINOVE, 2015,\\n\\t\\t\\t\\t\\t\\t\\t\\tSÃ£o Paulo. XII ENCONTRO DE INICIAÃ\\x87Ã\\x83O CIENTÃ\\x8dFICA - UNINOVE. SÃ£o Paulo: Uninove,\\n\\t\\t\\t\\t\\t\\t\\t\\t<strong>2015</strong>.</p>\\n\\t\\t\\t\\t\\t\\t\\t<p>VEIGA, F. L. ; NASCIMENTO, G. S. ; ROMERO, G. F. ; <strong>DE SOUZA, E. M.</strong> . Uso\\n\\t\\t\\t\\t\\t\\t\\t\\tdo dispositivo RFID para controle de frequÃªncia de alunos em sala de aula. In: XI\\n\\t\\t\\t\\t\\t\\t\\t\\tEncontro de IniciaÃ§Ã£o CientÃ\\xadfica e VIII SeminÃ¡rio Nacional de Pesquisa - Uninove, 2014,\\n\\t\\t\\t\\t\\t\\t\\t\\tSÃ£o Paulo. XI Encontro de IniciaÃ§Ã£o CientÃ\\xadfica e VIII SeminÃ¡rio Nacional de Pesquisa -\\n\\t\\t\\t\\t\\t\\t\\t\\tUninove. SÃ£o Paulo: Uninove, <strong>2014</strong>.</p>\\n\\t\\t\\t\\t\\t\\t\\t<p><strong>DE SOUZA, EDSON MELO</strong>; COPPINI, N. L. ; ROSA, A. F. C. ; BAPTISTA, E. A.\\n\\t\\t\\t\\t\\t\\t\\t\\t; LACERDA, F. S. . Novo Sistema de Apoio Ã\\xa0 DecisÃ£o e Operacional para OtimizaÃ§Ã£o de\\n\\t\\t\\t\\t\\t\\t\\t\\tProcessos de Usinagem. Revista IEEE AmÃ©rica Latina, v. 12, p. 1169-1175,\\n\\t\\t\\t\\t\\t\\t\\t\\t<strong>2014</strong>.</p>\\n\\t\\t\\t\\t\\t\\t\\t<p>COPPINI, N. L. ; DINIZ, A. E. ; BONANDI, M. ; <strong>DE SOUZA, E. M.</strong> ;\\n\\t\\t\\t\\t\\t\\t\\t\\tBAPTISTA, E. A. . Hard Turning of Sintered Cemented Carbide Parts: A Shop Floor\\n\\t\\t\\t\\t\\t\\t\\t\\tExperience. In: 14th CIRP Conference on Modeling of Machining Operations (CIRP CMMO),\\n\\t\\t\\t\\t\\t\\t\\t\\t2013, Torino. Annals of 14th CIRP Conference on Modeling of Machining Operations,\\n\\t\\t\\t\\t\\t\\t\\t\\t<strong>2013</strong>. v. 1. p. 1-6.</p>\\n\\t\\t\\t\\t\\t\\t</div>\\n\\t\\t\\t\\t\\t</li>\\n\\n\\t\\t\\t\\t\\t<li>\\n\\t\\t\\t\\t\\t\\t<a data-toggle=\"collapse\" href=\"#faq3\" class=\"collapsed\">Projetos de Pesquisa <i\\n\\t\\t\\t\\t\\t\\t\\t\\tclass=\"ion-android-remove\"></i></a>\\n\\t\\t\\t\\t\\t\\t<div id=\"faq3\" class=\"collapse\" data-parent=\"#faq-list\">\\n\\t\\t\\t\\t\\t\\t\\t<p>\\n\\t\\t\\t\\t\\t\\t\\t\\t<p><strong>2018/19</strong>: Desenvolvimento de SupervisÃ³rio TelemÃ©trico Aplicado a\\n\\t\\t\\t\\t\\t\\t\\t\\t\\tPsicultura com TÃ©cnicas de InteligÃªncia Artificial.</p>\\n\\t\\t\\t\\t\\t\\t\\t\\t<p><strong>2018/19</strong>: Ferramenta de Suporte Inteligente para a Plataforma AVA\\n\\t\\t\\t\\t\\t\\t\\t\\t\\tUtilizando TÃ©cnicas de Aprendizagem de MÃ¡quina na ConstruÃ§Ãµa de um Chatbot com o\\n\\t\\t\\t\\t\\t\\t\\t\\t\\t<em>Framework TensorFlow.</em></p>\\n\\t\\t\\t\\t\\t\\t\\t\\t<p><strong>2017/18</strong>: TÃ©cnicas de <em>Machine Learning</em> Aplicadas na\\n\\t\\t\\t\\t\\t\\t\\t\\t\\tAvaliaÃ§Ã£o de trabalhos de ConclusÃ£o de Curso.</p>\\n\\t\\t\\t\\t\\t\\t\\t\\t<p><strong>2017/18</strong>: Desenvolvimento de um <em>Software</em> Utilizando a\\n\\t\\t\\t\\t\\t\\t\\t\\t\\tTecnologia QRCode e RFID para o Monitoramento e AuxÃ\\xadlio PedagÃ³gico para os Alunos do\\n\\t\\t\\t\\t\\t\\t\\t\\t\\tCurso de Medicina da Universidade Nove de Julho.</p>\\n\\t\\t\\t\\t\\t\\t\\t\\t<p><strong>2016/17</strong>: AplicaÃ§Ã£o de TÃ©cnicas de Big Data para OtimizaÃ§Ã£o de\\n\\t\\t\\t\\t\\t\\t\\t\\t\\tPortais Corporativos.</p>\\n\\t\\t\\t\\t\\t\\t\\t\\t<p><strong>2016/17</strong>: PromoÃ§Ã£o da SaÃºde como EstratÃ©gia de PrevenÃ§Ã£o de DoenÃ§as\\n\\t\\t\\t\\t\\t\\t\\t\\t\\tCrÃ´nicas nÃ£o TransmissÃ\\xadveis (Projeto SaÃºde Dez).</p>\\n\\t\\t\\t\\t\\t\\t\\t\\t<p><strong>2015/16</strong>: Portal Mobile para a Troca de Livros AcadÃªmicos entre\\n\\t\\t\\t\\t\\t\\t\\t\\t\\tAlunos da Uninove.</p>\\n\\t\\t\\t\\t\\t\\t</div>\\n\\t\\t\\t\\t\\t</li>\\n\\n\\t\\t\\t\\t\\t<li>\\n\\t\\t\\t\\t\\t\\t<a data-toggle=\"collapse\" href=\"#faq4\" class=\"collapsed\">Principais ProduÃ§Ãµes TÃ©cnicas <i\\n\\t\\t\\t\\t\\t\\t\\t\\tclass=\"ion-android-remove\"></i></a>\\n\\t\\t\\t\\t\\t\\t<div id=\"faq4\" class=\"collapse\" data-parent=\"#faq-list\">\\n\\t\\t\\t\\t\\t\\t\\t<p>\\n\\t\\t\\t\\t\\t\\t\\t\\t<p><strong>DE SOUZA, E. M.</strong> SJMetrics - Scientific Journal Metrics <a\\n\\t\\t\\t\\t\\t\\t\\t\\t\\t\\thref=\"https://www.edsonmelo.com.br/sjmetrics\" style=\"display: inline;\"><img\\n\\t\\t\\t\\t\\t\\t\\t\\t\\t\\t\\tsrc=\"img/link.png\" style=\"width: 15px;\"></a></p>\\n\\t\\t\\t\\t\\t\\t\\t\\t<p><strong>DE SOUZA, E. M.</strong>; PACCHINI, A. P. T. READY for 40 - AvaliaÃ§Ã£o de\\n\\t\\t\\t\\t\\t\\t\\t\\t\\tProntidÃ£o para IndÃºstria 4.0, 2019 <a href=\"https://www.readyfor40.com.br\"\\n\\t\\t\\t\\t\\t\\t\\t\\t\\t\\tstyle=\"display: inline;\"><img src=\"img/link.png\" style=\"width: 15px;\"></a></p>\\n\\t\\t\\t\\t\\t\\t\\t\\t<p><strong>DE SOUZA, E. M.</strong> Survey - Projeto SaÃºde 10, 2016.</p>\\n\\t\\t\\t\\t\\t\\t\\t\\t<p><strong>DE SOUZA, E. M.</strong>; SOUZA, J. C. S.. SINGEP APP, 2016.</p>\\n\\t\\t\\t\\t\\t\\t\\t\\t<p><strong>DE SOUZA, E. M.</strong>; SOUZA, J. C. S.; SANTOS, O. F. SINGEP Web Mobile,\\n\\t\\t\\t\\t\\t\\t\\t\\t\\t2015.</p>\\n\\t\\t\\t\\t\\t\\t\\t\\t<p><strong>DE SOUZA, E. M.</strong>; COPPINI, N. L.. COPPISYS - Sistema de Apoio ao\\n\\t\\t\\t\\t\\t\\t\\t\\t\\tProcesso de Usinagem, 2012. <a href=\"https://www.coppisys.eng.br\"\\n\\t\\t\\t\\t\\t\\t\\t\\t\\t\\tstyle=\"display: inline;\"><img src=\"img/link.png\" style=\"width: 15px;\"></a></p>\\n\\t\\t\\t\\t\\t\\t\\t</p>\\n\\t\\t\\t\\t\\t\\t</div>\\n\\t\\t\\t\\t\\t</li>\\n\\n\\t\\t\\t\\t\\t<li>\\n\\t\\t\\t\\t\\t\\t<a data-toggle=\"collapse\" href=\"#faq5\" class=\"collapsed\">Links de Apoio (RepositÃ³rios)<i\\n\\t\\t\\t\\t\\t\\t\\t\\tclass=\"ion-android-remove\"></i></a>\\n\\t\\t\\t\\t\\t\\t<div id=\"faq5\" class=\"collapse\" data-parent=\"#faq-list\">\\n\\t\\t\\t\\t\\t\\t\\t<p><a href=\"https://www.youtube.com/edsonmsouza\"\\n\\t\\t\\t\\t\\t\\t\\t\\t\\tstyle=\"font-size: 16px; font-weight: bold;\">YouTube</a>VÃ\\xaddeos sobre Java, Android,\\n\\t\\t\\t\\t\\t\\t\\t\\tJSP, PHP e Banco de Dados</p>\\n\\t\\t\\t\\t\\t\\t\\t<p><a href=\"https://github.com/EdsonMSouza?tab=repositories\"\\n\\t\\t\\t\\t\\t\\t\\t\\t\\tstyle=\"font-size: 16px; font-weight: bold;\">GitHub</a>Projetos (CÃ³digo Fonte) de\\n\\t\\t\\t\\t\\t\\t\\t\\tJava, Android, PHP e Python</p>\\n\\t\\t\\t\\t\\t\\t\\t<p><a href=\"https://edsonmsouza.teachable.com\"\\n\\t\\t\\t\\t\\t\\t\\t\\t\\tstyle=\"font-size: 16px; font-weight: bold;\">Teachable</a>Curso de Android em vÃ\\xaddeo,\\n\\t\\t\\t\\t\\t\\t\\t\\tincluindo Banco de Dados SQLite</p>\\n\\t\\t\\t\\t\\t\\t</div>\\n\\t\\t\\t\\t\\t</li>\\n\\n\\n\\n\\t\\t\\t\\t</ul>\\n\\t\\t\\t</div>\\n\\t\\t</section><!-- #faq -->\\n\\t</main>\\n\\n\\t<!--==========================\\n    Footer\\n    ============================-->\\n\\t<footer id=\"footer\" class=\"section-bg\">\\n\\t\\t<div class=\"footer-top\">\\n\\t\\t\\t<div class=\"container\">\\n\\t\\t\\t\\t<div class=\"row\">\\n\\t\\t\\t\\t\\t<div class=\"col-lg-12\">\\n\\t\\t\\t\\t\\t\\t<div class=\"form\">\\n\\t\\t\\t\\t\\t\\t\\t<h4>Contato</h4>\\n\\t\\t\\t\\t\\t\\t\\t<p>Se vocÃª tem alguma dÃºvida, pergunta, crÃ\\xadtica ou sugestÃ£o, envie um e-mail para:\\n\\t\\t\\t\\t\\t\\t\\t\\t<strong><a href=\"\">prof.edson.melo@gmail.com</a></strong></p>\\n\\t\\t\\t\\t\\t\\t</div>\\n\\t\\t\\t\\t\\t</div>\\n\\t\\t\\t\\t</div>\\n\\t\\t\\t</div>\\n\\t\\t</div>\\n\\n\\t\\t<div class=\"container\">\\n\\t\\t\\t<div class=\"copyright\">\\n\\t\\t\\t\\t&copy; Copyright <strong>Rapid</strong>. All Rights Reserved\\n\\t\\t\\t</div>\\n\\t\\t\\t<div class=\"credits\">\\n\\t\\t\\t\\t<!--\\n          All the links in the footer should remain intact.\\n          You can delete the links only if you purchased the pro version.\\n          Licensing information: https://bootstrapmade.com/license/\\n          Purchase the pro version with working PHP/AJAX contact form: https://bootstrapmade.com/buy/?theme=Rapid\\n      -->\\n\\t\\t\\t\\tDesigned by <a href=\"https://bootstrapmade.com/\">BootstrapMade</a>\\n\\t\\t\\t</div>\\n\\t\\t</div>\\n\\t</footer><!-- #footer -->\\n\\n\\t<a href=\"#\" class=\"back-to-top\"><i class=\"fa fa-chevron-up\"></i></a>\\n\\t<!-- Uncomment below i you want to use a preloader -->\\n\\t<!--<div id=\"preloader\"></div>-->\\n\\n\\t<!-- JavaScript Libraries -->\\n\\t<script src=\"lib/jquery/jquery.min.js\"></script>\\n\\t<script src=\"lib/jquery/jquery-migrate.min.js\"></script>\\n\\t<script src=\"lib/bootstrap/js/bootstrap.bundle.min.js\"></script>\\n\\t<script src=\"lib/easing/easing.min.js\"></script>\\n\\t<script src=\"lib/mobile-nav/mobile-nav.js\"></script>\\n\\t<script src=\"lib/wow/wow.min.js\"></script>\\n\\t<script src=\"lib/waypoints/waypoints.min.js\"></script>\\n\\t<script src=\"lib/counterup/counterup.min.js\"></script>\\n\\t<script src=\"lib/owlcarousel/owl.carousel.min.js\"></script>\\n\\t<script src=\"lib/isotope/isotope.pkgd.min.js\"></script>\\n\\t<script src=\"lib/lightbox/js/lightbox.min.js\"></script>\\n\\t<!-- Contact Form JavaScript File -->\\n\\t<script src=\"contactform/contactform.js\"></script>\\n\\n\\t<!-- Template Main Javascript File -->\\n\\t<script src=\"js/main.js\"></script>\\n\\n</body>\\n\\n</html>'"
            ]
          },
          "metadata": {
            "tags": []
          },
          "execution_count": 23
        }
      ]
    },
    {
      "cell_type": "code",
      "metadata": {
        "id": "yTEfM6YXPAjE"
      },
      "source": [
        "# criar um objeto BS para manipular os dados\n",
        "soup = BeautifulSoup(site.text, 'html.parser')"
      ],
      "execution_count": 7,
      "outputs": []
    },
    {
      "cell_type": "code",
      "metadata": {
        "id": "pMVpkljNP8rF"
      },
      "source": [
        "print(soup.prettify())"
      ],
      "execution_count": null,
      "outputs": []
    },
    {
      "cell_type": "code",
      "metadata": {
        "id": "wyZ-M4T2QDNg",
        "outputId": "974fc6ec-a155-45f2-a151-03bc61924591",
        "colab": {
          "base_uri": "https://localhost:8080/"
        }
      },
      "source": [
        "# mostrando o titulo da página\n",
        "soup.title"
      ],
      "execution_count": 10,
      "outputs": [
        {
          "output_type": "execute_result",
          "data": {
            "text/plain": [
              "<title>Edson Melo de Souza</title>"
            ]
          },
          "metadata": {
            "tags": []
          },
          "execution_count": 10
        }
      ]
    },
    {
      "cell_type": "code",
      "metadata": {
        "id": "p6Atg3YsQ958",
        "outputId": "71c44019-3c92-4af1-ca1b-594185fbf0ee",
        "colab": {
          "base_uri": "https://localhost:8080/",
          "height": 35
        }
      },
      "source": [
        "# mostrando o titulo sem as TAGs\n",
        "soup.title.string"
      ],
      "execution_count": 11,
      "outputs": [
        {
          "output_type": "execute_result",
          "data": {
            "application/vnd.google.colaboratory.intrinsic+json": {
              "type": "string"
            },
            "text/plain": [
              "'Edson Melo de Souza'"
            ]
          },
          "metadata": {
            "tags": []
          },
          "execution_count": 11
        }
      ]
    },
    {
      "cell_type": "code",
      "metadata": {
        "id": "TPg5i1vVRKXE",
        "outputId": "bcf98d7b-2ce9-4206-aa93-458e8c2e7975",
        "colab": {
          "base_uri": "https://localhost:8080/"
        }
      },
      "source": [
        "# encontrando os links na página TAG = (a)[href]\n",
        "links = soup.find_all(\"a\")\n",
        "links"
      ],
      "execution_count": 13,
      "outputs": [
        {
          "output_type": "execute_result",
          "data": {
            "text/plain": [
              "[<a class=\"youtube\" href=\"https://youtube.com/EdsonMsouza\"><i class=\"fa fa-youtube\"></i></a>,\n",
              " <a class=\"github\" href=\"https://github.com/EdsonMSouza?tab=repositories\"><i class=\"fa fa-github\"></i></a>,\n",
              " <a class=\"facebook\" href=\"https://www.facebook.com/emelo1970\"><i class=\"fa fa-facebook\"></i></a>,\n",
              " <a class=\"linkedin\" href=\"https://www.linkedin.com/in/souzaem/\"><i class=\"fa fa-linkedin\"></i></a>,\n",
              " <a class=\"scrollto\" href=\"#intro\"><span>EMS</span></a>,\n",
              " <a href=\"#main\" title=\"InÃ­cio da pÃ¡gina\">Home</a>,\n",
              " <a href=\"#services\" title=\"Perfil Profissional\">Perfil</a>,\n",
              " <a href=\"#faq\" title=\"Perfil AcadÃªmico\">AcadÃªmico</a>,\n",
              " <a href=\"#footer\" title=\"Fale Comigo\">Contato</a>,\n",
              " <a alt=\"Universidade Nove de Julho\" href=\"https://uninove.br/\" title=\"Universidade Nove de Julho\">Universidade\n",
              " \t\t\t\t\t\t\t\t\tNove de Julho -\n",
              " \t\t\t\t\t\t\t\t\tUninove</a>,\n",
              " <a class=\"collapsed\" data-toggle=\"collapse\" href=\"#faq1\">CurrÃ­culo Lattes e DissertaÃ§Ã£o <i class=\"ion-android-remove\"></i></a>,\n",
              " <a alt=\"CurrÃ­culo Lattes\" href=\"http://lattes.cnpq.br/2641658716558510\" style=\"font-size: 16px;\" target=\"_blank\" title=\"CurrÃ­culo Lattes\">http://lattes.cnpq.br/2641658716558510</a>,\n",
              " <a alt=\"DissertaÃ§Ã£o de Mestrado\" href=\"file/Dissertacao_Edson_Melo_de_Souza.pdf\" style=\"font-size: 16px;\" target=\"_blank\" title=\"DissertaÃ§Ã£o de Mestrado\">Desenvolvimento de um Sistema de Apoio Ã \n",
              " \t\t\t\t\t\t\t\t\tDecisÃ£o e Operacional para OtimizaÃ§Ã£o dos ParÃ¢metros de Corte em Usinagem</a>,\n",
              " <a class=\"collapsed\" data-toggle=\"collapse\" href=\"#faq2\">Principais PublicaÃ§Ãµes <i class=\"ion-android-remove\"></i></a>,\n",
              " <a class=\"collapsed\" data-toggle=\"collapse\" href=\"#faq3\">Projetos de Pesquisa <i class=\"ion-android-remove\"></i></a>,\n",
              " <a class=\"collapsed\" data-toggle=\"collapse\" href=\"#faq4\">Principais ProduÃ§Ãµes TÃ©cnicas <i class=\"ion-android-remove\"></i></a>,\n",
              " <a href=\"https://www.edsonmelo.com.br/sjmetrics\" style=\"display: inline;\"><img src=\"img/link.png\" style=\"width: 15px;\"/></a>,\n",
              " <a href=\"https://www.readyfor40.com.br\" style=\"display: inline;\"><img src=\"img/link.png\" style=\"width: 15px;\"/></a>,\n",
              " <a href=\"https://www.coppisys.eng.br\" style=\"display: inline;\"><img src=\"img/link.png\" style=\"width: 15px;\"/></a>,\n",
              " <a class=\"collapsed\" data-toggle=\"collapse\" href=\"#faq5\">Links de Apoio (RepositÃ³rios)<i class=\"ion-android-remove\"></i></a>,\n",
              " <a href=\"https://www.youtube.com/edsonmsouza\" style=\"font-size: 16px; font-weight: bold;\">YouTube</a>,\n",
              " <a href=\"https://github.com/EdsonMSouza?tab=repositories\" style=\"font-size: 16px; font-weight: bold;\">GitHub</a>,\n",
              " <a href=\"https://edsonmsouza.teachable.com\" style=\"font-size: 16px; font-weight: bold;\">Teachable</a>,\n",
              " <a href=\"\">prof.edson.melo@gmail.com</a>,\n",
              " <a href=\"https://bootstrapmade.com/\">BootstrapMade</a>,\n",
              " <a class=\"back-to-top\" href=\"#\"><i class=\"fa fa-chevron-up\"></i></a>]"
            ]
          },
          "metadata": {
            "tags": []
          },
          "execution_count": 13
        }
      ]
    },
    {
      "cell_type": "code",
      "metadata": {
        "id": "eLQHQdQ3RsBu",
        "outputId": "1075cbf7-ca58-4119-ca2d-9e9387cbd607",
        "colab": {
          "base_uri": "https://localhost:8080/",
          "height": 244
        }
      },
      "source": [
        "# vamos verificar link a link\n",
        "result = []\n",
        "for link in links:\n",
        "    if re.search(\"http\", link.get(\"href\")): # se tiver \"http\" na sequência, então mostre \n",
        "        result.append(link.get(\"href\"))\n",
        "    else:\n",
        "        if not re.search(\"#\", link.get(\"href\")):\n",
        "            links.append(url + link.get(\"href\"))\n",
        "result"
      ],
      "execution_count": 24,
      "outputs": [
        {
          "output_type": "error",
          "ename": "AttributeError",
          "evalue": "ignored",
          "traceback": [
            "\u001b[0;31m---------------------------------------------------------------------------\u001b[0m",
            "\u001b[0;31mAttributeError\u001b[0m                            Traceback (most recent call last)",
            "\u001b[0;32m<ipython-input-24-1dae225dfeb5>\u001b[0m in \u001b[0;36m<module>\u001b[0;34m()\u001b[0m\n\u001b[1;32m      2\u001b[0m \u001b[0mresult\u001b[0m \u001b[0;34m=\u001b[0m \u001b[0;34m[\u001b[0m\u001b[0;34m]\u001b[0m\u001b[0;34m\u001b[0m\u001b[0;34m\u001b[0m\u001b[0m\n\u001b[1;32m      3\u001b[0m \u001b[0;32mfor\u001b[0m \u001b[0mlink\u001b[0m \u001b[0;32min\u001b[0m \u001b[0mlinks\u001b[0m\u001b[0;34m:\u001b[0m\u001b[0;34m\u001b[0m\u001b[0;34m\u001b[0m\u001b[0m\n\u001b[0;32m----> 4\u001b[0;31m     \u001b[0;32mif\u001b[0m \u001b[0mre\u001b[0m\u001b[0;34m.\u001b[0m\u001b[0msearch\u001b[0m\u001b[0;34m(\u001b[0m\u001b[0;34m\"http\"\u001b[0m\u001b[0;34m,\u001b[0m \u001b[0mlink\u001b[0m\u001b[0;34m.\u001b[0m\u001b[0mget\u001b[0m\u001b[0;34m(\u001b[0m\u001b[0;34m\"href\"\u001b[0m\u001b[0;34m)\u001b[0m\u001b[0;34m)\u001b[0m\u001b[0;34m:\u001b[0m \u001b[0;31m# se tiver \"http\" na sequência, então mostre\u001b[0m\u001b[0;34m\u001b[0m\u001b[0;34m\u001b[0m\u001b[0m\n\u001b[0m\u001b[1;32m      5\u001b[0m         \u001b[0mresult\u001b[0m\u001b[0;34m.\u001b[0m\u001b[0mappend\u001b[0m\u001b[0;34m(\u001b[0m\u001b[0mlink\u001b[0m\u001b[0;34m.\u001b[0m\u001b[0mget\u001b[0m\u001b[0;34m(\u001b[0m\u001b[0;34m\"href\"\u001b[0m\u001b[0;34m)\u001b[0m\u001b[0;34m)\u001b[0m\u001b[0;34m\u001b[0m\u001b[0;34m\u001b[0m\u001b[0m\n\u001b[1;32m      6\u001b[0m     \u001b[0;32melse\u001b[0m\u001b[0;34m:\u001b[0m\u001b[0;34m\u001b[0m\u001b[0;34m\u001b[0m\u001b[0m\n",
            "\u001b[0;31mAttributeError\u001b[0m: 'str' object has no attribute 'get'"
          ]
        }
      ]
    },
    {
      "cell_type": "code",
      "metadata": {
        "id": "Oh67yDQeSI04"
      },
      "source": [
        "# quero ideias \n",
        "# 1- vender algo\n",
        "# 2- seguir o link\n",
        "# 3- criar um csv \n",
        "\n",
        "# seguir o link \n",
        "site_tmp = requests\n"
      ],
      "execution_count": null,
      "outputs": []
    }
  ]
}